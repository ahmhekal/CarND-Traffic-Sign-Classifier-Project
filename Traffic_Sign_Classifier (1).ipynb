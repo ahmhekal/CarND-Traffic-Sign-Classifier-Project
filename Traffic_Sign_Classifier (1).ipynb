{
 "cells": [
  {
   "cell_type": "markdown",
   "metadata": {},
   "source": [
    "# Self-Driving Car Engineer Nanodegree\n",
    "\n",
    "## Deep Learning\n",
    "\n",
    "## Project: Build a Traffic Sign Recognition Classifier\n",
    "\n",
    "In this notebook, a template is provided for you to implement your functionality in stages, which is required to successfully complete this project. If additional code is required that cannot be included in the notebook, be sure that the Python code is successfully imported and included in your submission if necessary. \n",
    "\n",
    "> **Note**: Once you have completed all of the code implementations, you need to finalize your work by exporting the iPython Notebook as an HTML document. Before exporting the notebook to html, all of the code cells need to have been run so that reviewers can see the final implementation and output. You can then export the notebook by using the menu above and navigating to  \\n\",\n",
    "    \"**File -> Download as -> HTML (.html)**. Include the finished document along with this notebook as your submission. \n",
    "\n",
    "In addition to implementing code, there is a writeup to complete. The writeup should be completed in a separate file, which can be either a markdown file or a pdf document. There is a [write up template](https://github.com/udacity/CarND-Traffic-Sign-Classifier-Project/blob/master/writeup_template.md) that can be used to guide the writing process. Completing the code template and writeup template will cover all of the [rubric points](https://review.udacity.com/#!/rubrics/481/view) for this project.\n",
    "\n",
    "The [rubric](https://review.udacity.com/#!/rubrics/481/view) contains \"Stand Out Suggestions\" for enhancing the project beyond the minimum requirements. The stand out suggestions are optional. If you decide to pursue the \"stand out suggestions\", you can include the code in this Ipython notebook and also discuss the results in the writeup file.\n",
    "\n",
    "\n",
    ">**Note:** Code and Markdown cells can be executed using the **Shift + Enter** keyboard shortcut. In addition, Markdown cells can be edited by typically double-clicking the cell to enter edit mode."
   ]
  },
  {
   "cell_type": "markdown",
   "metadata": {},
   "source": [
    "---\n",
    "## Step 0: Load The Data"
   ]
  },
  {
   "cell_type": "code",
   "execution_count": 1,
   "metadata": {},
   "outputs": [],
   "source": [
    "# Load pickled data\n",
    "import pickle\n",
    "\n",
    "# TODO: Fill this in based on where you saved the training and testing data\n",
    "\n",
    "training_file = \"train.p\"\n",
    "validation_file= \"valid.p\"\n",
    "testing_file = \"test.p\"\n",
    "\n",
    "with open(training_file, mode='rb') as f:\n",
    "    train = pickle.load(f)\n",
    "with open(validation_file, mode='rb') as f:\n",
    "    valid = pickle.load(f)\n",
    "with open(testing_file, mode='rb') as f:\n",
    "    test = pickle.load(f)\n",
    "    \n",
    "X_train, y_train = train['features'], train['labels']\n",
    "X_valid, y_valid = valid['features'], valid['labels']\n",
    "X_test, y_test = test['features'], test['labels']"
   ]
  },
  {
   "cell_type": "markdown",
   "metadata": {},
   "source": [
    "---\n",
    "\n",
    "## Step 1: Dataset Summary & Exploration\n",
    "\n",
    "The pickled data is a dictionary with 4 key/value pairs:\n",
    "\n",
    "- `'features'` is a 4D array containing raw pixel data of the traffic sign images, (num examples, width, height, channels).\n",
    "- `'labels'` is a 1D array containing the label/class id of the traffic sign. The file `signnames.csv` contains id -> name mappings for each id.\n",
    "- `'sizes'` is a list containing tuples, (width, height) representing the original width and height the image.\n",
    "- `'coords'` is a list containing tuples, (x1, y1, x2, y2) representing coordinates of a bounding box around the sign in the image. **THESE COORDINATES ASSUME THE ORIGINAL IMAGE. THE PICKLED DATA CONTAINS RESIZED VERSIONS (32 by 32) OF THESE IMAGES**\n",
    "\n",
    "Complete the basic data summary below. Use python, numpy and/or pandas methods to calculate the data summary rather than hard coding the results. For example, the [pandas shape method](http://pandas.pydata.org/pandas-docs/stable/generated/pandas.DataFrame.shape.html) might be useful for calculating some of the summary results. "
   ]
  },
  {
   "cell_type": "markdown",
   "metadata": {},
   "source": [
    "### Provide a Basic Summary of the Data Set Using Python, Numpy and/or Pandas"
   ]
  },
  {
   "cell_type": "code",
   "execution_count": 2,
   "metadata": {},
   "outputs": [],
   "source": [
    "import numpy as np\n"
   ]
  },
  {
   "cell_type": "code",
   "execution_count": 3,
   "metadata": {},
   "outputs": [
    {
     "name": "stdout",
     "output_type": "stream",
     "text": [
      "Number of training examples = 34799\n",
      "Number of validation examples = 4410\n",
      "Number of testing examples = 12630\n",
      "Image data shape = (32, 32)\n",
      "Number of classes = 43\n"
     ]
    }
   ],
   "source": [
    "### Replace each question mark with the appropriate value. \n",
    "### Use python, pandas or numpy methods rather than hard coding the results\n",
    "\n",
    "# TODO: Number of training examples\n",
    "n_train = X_train.shape[0]\n",
    "\n",
    "# TODO: Number of validation examples\n",
    "n_validation = X_valid.shape[0]\n",
    "\n",
    "# TODO: Number of testing examples.\n",
    "n_test = X_test.shape[0]\n",
    "\n",
    "# TODO: What's the shape of an traffic sign image?\n",
    "image_shape = X_train.shape[1:3]\n",
    "\n",
    "# TODO: How many unique classes/labels there are in the dataset.\n",
    "n_classes = len(set(y_train))\n",
    "\n",
    "print(\"Number of training examples =\", n_train)\n",
    "print(\"Number of validation examples =\", n_validation)\n",
    "print(\"Number of testing examples =\", n_test)\n",
    "print(\"Image data shape =\", image_shape)\n",
    "print(\"Number of classes =\", n_classes)"
   ]
  },
  {
   "cell_type": "markdown",
   "metadata": {},
   "source": [
    "### Include an exploratory visualization of the dataset"
   ]
  },
  {
   "cell_type": "markdown",
   "metadata": {},
   "source": [
    "Visualize the German Traffic Signs Dataset using the pickled file(s). This is open ended, suggestions include: plotting traffic sign images, plotting the count of each sign, etc. \n",
    "\n",
    "The [Matplotlib](http://matplotlib.org/) [examples](http://matplotlib.org/examples/index.html) and [gallery](http://matplotlib.org/gallery.html) pages are a great resource for doing visualizations in Python.\n",
    "\n",
    "**NOTE:** It's recommended you start with something simple first. If you wish to do more, come back to it after you've completed the rest of the sections. It can be interesting to look at the distribution of classes in the training, validation and test set. Is the distribution the same? Are there more examples of some classes than others?"
   ]
  },
  {
   "cell_type": "code",
   "execution_count": 4,
   "metadata": {},
   "outputs": [],
   "source": [
    "### Data exploration visualization code goes here.\n",
    "### Feel free to use as many code cells as needed.\n",
    "import matplotlib.pyplot as plt\n",
    "# Visualizations will be shown in the notebook.\n",
    "%matplotlib inline\n",
    "\n",
    "import matplotlib.image as mpimg"
   ]
  },
  {
   "cell_type": "code",
   "execution_count": 5,
   "metadata": {},
   "outputs": [
    {
     "data": {
      "image/png": "[encoded data removed]",
      "text/plain": [
       "<matplotlib.figure.Figure at 0x7fc72b49e0b8>"
      ]
     },
     "metadata": {
      "needs_background": "light"
     },
     "output_type": "display_data"
    }
   ],
   "source": [
    "## histogram showing number of examples per class\n",
    "\n",
    "plt.hist(y_train,n_classes)\n",
    "plt.savefig('examples/TrainVis')\n",
    "\n",
    "plt.hist(y_valid,n_classes)\n",
    "plt.savefig('examples/ValidVis')\n",
    "\n",
    "plt.hist(y_test,n_classes)\n",
    "plt.savefig('examples/TestVis')\n"
   ]
  },
  {
   "cell_type": "markdown",
   "metadata": {},
   "source": [
    "----\n",
    "\n",
    "## Step 2: Design and Test a Model Architecture\n",
    "\n",
    "Design and implement a deep learning model that learns to recognize traffic signs. Train and test your model on the [German Traffic Sign Dataset](http://benchmark.ini.rub.de/?section=gtsrb&subsection=dataset).\n",
    "\n",
    "The LeNet-5 implementation shown in the [classroom](https://classroom.udacity.com/nanodegrees/nd013/parts/fbf77062-5703-404e-b60c-95b78b2f3f9e/modules/6df7ae49-c61c-4bb2-a23e-6527e69209ec/lessons/601ae704-1035-4287-8b11-e2c2716217ad/concepts/d4aca031-508f-4e0b-b493-e7b706120f81) at the end of the CNN lesson is a solid starting point. You'll have to change the number of classes and possibly the preprocessing, but aside from that it's plug and play! \n",
    "\n",
    "With the LeNet-5 solution from the lecture, you should expect a validation set accuracy of about 0.89. To meet specifications, the validation set accuracy will need to be at least 0.93. It is possible to get an even higher accuracy, but 0.93 is the minimum for a successful project submission. \n",
    "\n",
    "There are various aspects to consider when thinking about this problem:\n",
    "\n",
    "- Neural network architecture (is the network over or underfitting?)\n",
    "- Play around preprocessing techniques (normalization, rgb to grayscale, etc)\n",
    "- Number of examples per label (some have more than others).\n",
    "- Generate fake data.\n",
    "\n",
    "Here is an example of a [published baseline model on this problem](http://yann.lecun.com/exdb/publis/pdf/sermanet-ijcnn-11.pdf). It's not required to be familiar with the approach used in the paper but, it's good practice to try to read papers like these."
   ]
  },
  {
   "cell_type": "markdown",
   "metadata": {},
   "source": [
    "### Pre-process the Data Set (normalization, grayscale, etc.)"
   ]
  },
  {
   "cell_type": "markdown",
   "metadata": {},
   "source": [
    "Minimally, the image data should be normalized so that the data has mean zero and equal variance. For image data, `(pixel - 128)/ 128` is a quick way to approximately normalize the data and can be used in this project. \n",
    "\n",
    "Other pre-processing steps are optional. You can try different techniques to see if it improves performance. \n",
    "\n",
    "Use the code cell (or multiple code cells, if necessary) to implement the first step of your project."
   ]
  },
  {
   "cell_type": "code",
   "execution_count": 6,
   "metadata": {},
   "outputs": [
    {
     "data": {
      "text/plain": [
       "numpy.ndarray"
      ]
     },
     "execution_count": 6,
     "metadata": {},
     "output_type": "execute_result"
    }
   ],
   "source": [
    "type(X_train)"
   ]
  },
  {
   "cell_type": "code",
   "execution_count": 7,
   "metadata": {},
   "outputs": [],
   "source": [
    "import cv2 \n",
    "import tensorflow as tf\n",
    "\n",
    "    "
   ]
  },
  {
   "cell_type": "code",
   "execution_count": 8,
   "metadata": {},
   "outputs": [
    {
     "data": {
      "image/png": "[encoded data removed]",
      "text/plain": [
       "<matplotlib.figure.Figure at 0x7fc708c3a6a0>"
      ]
     },
     "metadata": {
      "needs_background": "light"
     },
     "output_type": "display_data"
    }
   ],
   "source": [
    "### Preprocess the data here. It is required to normalize the data. Other preprocessing steps could include \n",
    "### converting to grayscale, etc.\n",
    "### Feel free to use as many code cells as needed.\n",
    "from skimage.color import rgb2gray\n",
    "#normalized_x=(X_train-180)/180\n",
    "#print(np.max(normalized_x[10000])\n",
    "gray=[]\n",
    "gray_valid=[]\n",
    "gray_test=[]\n",
    "\n",
    "norm_train=[]\n",
    "norm_valid=[]\n",
    "norm_test=[]\n",
    "\n",
    "\n",
    "for i in range (0, n_train):\n",
    "    gray.append(rgb2gray(X_train[i]))  \n",
    "for i in range (0, n_validation):\n",
    "    gray_valid.append(rgb2gray(X_valid[i]))\n",
    "for i in range (0, n_test):\n",
    "    gray_test.append(rgb2gray(X_test[i]))\n",
    "    \n",
    "gray_valid = np.array(gray_valid)\n",
    "gray_test = np.array(gray_test)\n",
    "\n",
    "gray_train = np.array(gray)\n",
    "\n",
    "plt.imshow(X_train[500])\n",
    "plt.savefig('examples/train')\n",
    "\n",
    "\n"
   ]
  },
  {
   "cell_type": "code",
   "execution_count": 9,
   "metadata": {},
   "outputs": [
    {
     "data": {
      "image/png": "[encoded data removed]",
      "text/plain": [
       "<matplotlib.figure.Figure at 0x7fc7059b3198>"
      ]
     },
     "metadata": {
      "needs_background": "light"
     },
     "output_type": "display_data"
    }
   ],
   "source": [
    "plt.imshow(gray[500], cmap='gray')\n",
    "plt.savefig('examples/gray')"
   ]
  },
  {
   "cell_type": "code",
   "execution_count": 10,
   "metadata": {},
   "outputs": [
    {
     "data": {
      "text/plain": [
       "numpy.ndarray"
      ]
     },
     "execution_count": 10,
     "metadata": {},
     "output_type": "execute_result"
    }
   ],
   "source": [
    "type(X_train)"
   ]
  },
  {
   "cell_type": "markdown",
   "metadata": {},
   "source": [
    "### Model Architecture"
   ]
  },
  {
   "cell_type": "code",
   "execution_count": 11,
   "metadata": {},
   "outputs": [],
   "source": [
    "### Define your architecture here.\n",
    "### Feel free to use as many code cells as needed.\n"
   ]
  },
  {
   "cell_type": "code",
   "execution_count": 10,
   "metadata": {},
   "outputs": [],
   "source": [
    "EPOCHS = 40\n",
    "BATCH_SIZE = 64"
   ]
  },
  {
   "cell_type": "code",
   "execution_count": 11,
   "metadata": {},
   "outputs": [],
   "source": [
    "from tensorflow.contrib.layers import flatten\n",
    "\n",
    "\n",
    "def LeNet(x, keep_probability):    \n",
    "    # Arguments used for tf.truncated_normal, randomly defines variables for the weights and biases for each layer\n",
    "    mu = 0\n",
    "    sigma = 0.1\n",
    "    \n",
    "\n",
    "    # TODO: Layer 1: Convolutional. Input = 32x32x1. Output = 28x28x6.\n",
    "    W1=tf.Variable(tf.truncated_normal((5,5,1,6),mean = mu, stddev = sigma))\n",
    "    bias = tf.Variable(tf.zeros((6)))\n",
    "    out1 = tf.nn.conv2d(x, W1, strides=[1, 1, 1, 1], padding='VALID')\n",
    "    out1 = tf.nn.bias_add(out1, bias)\n",
    "\n",
    "    # TODO: Activation.\n",
    "    a1=tf.nn.relu(out1)\n",
    "    \n",
    "    # TODO: Pooling. Input = 28x28x6. Output = 14x14x6.\n",
    "    p1=tf.nn.max_pool(a1,ksize=[1,2,2,1], strides=[1,2,2,1], padding='VALID')\n",
    "    \n",
    "    # TODO: Layer 2: Convolutional. Output = 10x10x16.\n",
    "    bias2 = tf.Variable(tf.zeros((16)))\n",
    "    W2=tf.Variable(tf.truncated_normal((5,5,6,16),mean = mu, stddev = sigma))\n",
    "    out2 = tf.nn.conv2d(p1, W2, strides=[1, 1, 1, 1], padding='VALID')\n",
    "    out2 = tf.nn.bias_add(out2, bias2)\n",
    "\n",
    "    \n",
    "    # TODO: Activation.\n",
    "    a2=tf.nn.relu(out2)\n",
    "\n",
    "    # TODO: Pooling. Input = 10x10x16. Output = 5x5x16.\n",
    "    p2=tf.nn.max_pool(a2,ksize=[1,2,2,1], strides=[1,2,2,1], padding='VALID')\n",
    "\n",
    "    # TODO: Flatten. Input = 5x5x16. Output = 400.\n",
    "    flat=flatten(p2)\n",
    "    # TODO: Layer 3: Fully Connected. Input = 400. Output = 120.\n",
    "    #fc3=tf.contrib.layers.fully_connected(flat, 120)\n",
    "    W3 = tf.Variable(tf.truncated_normal((400,120), mean = mu, stddev = sigma))\n",
    "    b3=tf.Variable(tf.zeros(120))\n",
    "    fc3=tf.add(tf.matmul(flat,W3),b3)\n",
    "    \n",
    "    # TODO: Activation.\n",
    "    a3=tf.nn.relu(fc3)\n",
    "    \n",
    "    # TODO: Layer 4: Fully Connected. Input = 120. Output = 84.\n",
    "    #fc4=tf.contrib.layers.fully_connected(a3, 84)\n",
    "    W4 = tf.Variable(tf.truncated_normal((120,84), mean = mu, stddev = sigma))\n",
    "    b4=tf.Variable(tf.zeros(84))\n",
    "    fc4=tf.add(tf.matmul(a3,W4),b4)\n",
    "    \n",
    "    \n",
    "    # TODO: Activation.\n",
    "    a4=tf.nn.relu(fc4)\n",
    "\n",
    "    # TODO: Layer 5: Fully Connected. Input = 84. Output = 43.\n",
    "    #fc5=tf.contrib.layers.fully_connected(a4, 43)    \n",
    "    W5 = tf.Variable(tf.truncated_normal((84,43), mean = mu, stddev = sigma))\n",
    "    b5=tf.Variable(tf.zeros(43))\n",
    "    \n",
    "    a4 = tf.nn.dropout(a4, keep_probability)\n",
    "\n",
    "    fc5=tf.add(tf.matmul(a4,W5),b5)\n",
    "\n",
    "    logits=fc5\n",
    "    return logits"
   ]
  },
  {
   "cell_type": "code",
   "execution_count": 12,
   "metadata": {},
   "outputs": [],
   "source": [
    "x = tf.placeholder(tf.float32, (None, 32, 32, 1))\n",
    "y = tf.placeholder(tf.int32, (None))\n",
    "keep_probability = tf.placeholder(tf.float32)\n",
    "one_hot_y = tf.one_hot(y, 43)"
   ]
  },
  {
   "cell_type": "code",
   "execution_count": 13,
   "metadata": {},
   "outputs": [],
   "source": [
    "rate = 0.001\n",
    "keep_prob = 0.5\n",
    "\n",
    "logits = LeNet(x, keep_probability)\n",
    "cross_entropy = tf.nn.softmax_cross_entropy_with_logits(labels=one_hot_y, logits=logits)\n",
    "loss_operation = tf.reduce_mean(cross_entropy)\n",
    "optimizer = tf.train.AdamOptimizer(learning_rate = rate)\n",
    "training_operation = optimizer.minimize(loss_operation)"
   ]
  },
  {
   "cell_type": "code",
   "execution_count": 14,
   "metadata": {},
   "outputs": [
    {
     "data": {
      "text/plain": [
       "(4410, 32, 32, 1)"
      ]
     },
     "execution_count": 14,
     "metadata": {},
     "output_type": "execute_result"
    }
   ],
   "source": [
    "gray_train=gray_train.reshape(n_train, 32, 32, 1)\n",
    "gray_valid=gray_valid.reshape(n_validation, 32, 32, 1)\n",
    "gray_test=gray_test.reshape(n_test, 32, 32, 1)\n",
    "\n",
    "gray_valid.shape\n"
   ]
  },
  {
   "cell_type": "markdown",
   "metadata": {},
   "source": [
    "### Train, Validate and Test the Model"
   ]
  },
  {
   "cell_type": "markdown",
   "metadata": {},
   "source": [
    "A validation set can be used to assess how well the model is performing. A low accuracy on the training and validation\n",
    "sets imply underfitting. A high accuracy on the training set but low accuracy on the validation set implies overfitting."
   ]
  },
  {
   "cell_type": "code",
   "execution_count": 15,
   "metadata": {},
   "outputs": [],
   "source": [
    "correct_prediction = tf.equal(tf.argmax(logits, 1), tf.argmax(one_hot_y, 1))\n",
    "accuracy_operation = tf.reduce_mean(tf.cast(correct_prediction, tf.float32))\n",
    "saver = tf.train.Saver()\n",
    "\n",
    "def evaluate(X_data, y_data):\n",
    "    num_examples = len(X_data)\n",
    "    total_accuracy = 0\n",
    "    sess = tf.get_default_session()\n",
    "    for offset in range(0, num_examples, BATCH_SIZE):\n",
    "        batch_x, batch_y = X_data[offset:offset+BATCH_SIZE], y_data[offset:offset+BATCH_SIZE]\n",
    "        accuracy = sess.run(accuracy_operation, feed_dict={x: batch_x, y: batch_y, keep_probability: 1.0})\n",
    "        total_accuracy += (accuracy * len(batch_x))\n",
    "    return total_accuracy / num_examples"
   ]
  },
  {
   "cell_type": "code",
   "execution_count": 18,
   "metadata": {},
   "outputs": [],
   "source": [
    "from sklearn.utils import shuffle\n"
   ]
  },
  {
   "cell_type": "code",
   "execution_count": 19,
   "metadata": {},
   "outputs": [
    {
     "name": "stdout",
     "output_type": "stream",
     "text": [
      "Training...\n",
      "\n",
      "EPOCH 5 ...\n",
      "Validation Accuracy = 0.911\n",
      "Training Accuracy = 0.972\n",
      "\n",
      "EPOCH 10 ...\n",
      "Validation Accuracy = 0.930\n",
      "Training Accuracy = 0.988\n",
      "\n",
      "EPOCH 15 ...\n",
      "Validation Accuracy = 0.935\n",
      "Training Accuracy = 0.995\n",
      "\n",
      "EPOCH 20 ...\n",
      "Validation Accuracy = 0.943\n",
      "Training Accuracy = 0.994\n",
      "\n",
      "EPOCH 25 ...\n",
      "Validation Accuracy = 0.936\n",
      "Training Accuracy = 0.997\n",
      "\n",
      "EPOCH 30 ...\n",
      "Validation Accuracy = 0.937\n",
      "Training Accuracy = 0.999\n",
      "\n",
      "EPOCH 35 ...\n",
      "Validation Accuracy = 0.942\n",
      "Training Accuracy = 0.999\n",
      "\n",
      "EPOCH 40 ...\n",
      "Validation Accuracy = 0.946\n",
      "Training Accuracy = 1.000\n",
      "\n",
      "Model saved\n"
     ]
    }
   ],
   "source": [
    "### Train your model here.\n",
    "### Calculate and report the accuracy on the training and validation set.\n",
    "### Once a final model architecture is selected, \n",
    "### the accuracy on the test set should be calculated and reported as well.\n",
    "### Feel free to use as many code cells as needed.\n",
    "with tf.Session() as sess:\n",
    "    sess.run(tf.global_variables_initializer())\n",
    "    num_examples = n_train\n",
    "    \n",
    "    print(\"Training...\")\n",
    "    print()\n",
    "\n",
    "    \n",
    "    for i in range(EPOCHS):\n",
    "        #X_train, y_train = shuffle(X_train, y_train)\n",
    "        gray_train, y_train = shuffle(gray_train, y_train)\n",
    "        for offset in range(0, num_examples, BATCH_SIZE):\n",
    "            end = offset + BATCH_SIZE\n",
    "            #gray = np.reshape(gray, (128, 32, 32, 1))\n",
    "            batch_x, batch_y = gray_train[offset:end], y_train[offset:end]\n",
    "            sess.run(training_operation, feed_dict={x: batch_x, y: batch_y, keep_probability: keep_prob})\n",
    "        if (i+1)%5==0: \n",
    "            training_accuracy = evaluate(gray_train, y_train)\n",
    "            validation_accuracy = evaluate(gray_valid, y_valid)\n",
    "            print(\"EPOCH {} ...\".format(i+1))\n",
    "            print(\"Validation Accuracy = {:.3f}\".format(validation_accuracy))\n",
    "            print(\"Training Accuracy = {:.3f}\".format(training_accuracy))\n",
    "\n",
    "            print()\n",
    "        \n",
    "    saver.save(sess, './lenet')\n",
    "    print(\"Model saved\")"
   ]
  },
  {
   "cell_type": "markdown",
   "metadata": {},
   "source": [
    "---\n",
    "\n",
    "## Step 3: Test a Model on New Images\n",
    "\n",
    "To give yourself more insight into how your model is working, download at least five pictures of German traffic signs from the web and use your model to predict the traffic sign type.\n",
    "\n",
    "You may find `signnames.csv` useful as it contains mappings from the class id (integer) to the actual sign name."
   ]
  },
  {
   "cell_type": "markdown",
   "metadata": {},
   "source": [
    "### Load and Output the Images"
   ]
  },
  {
   "cell_type": "code",
   "execution_count": 16,
   "metadata": {},
   "outputs": [
    {
     "data": {
      "text/plain": [
       "<matplotlib.figure.Figure at 0x7fc6e07b0cc0>"
      ]
     },
     "execution_count": 16,
     "metadata": {},
     "output_type": "execute_result"
    },
    {
     "data": {
      "image/png": "[encoded data removed]",
      "text/plain": [
       "<matplotlib.figure.Figure at 0x7fc6e08dce80>"
      ]
     },
     "metadata": {
      "needs_background": "light"
     },
     "output_type": "display_data"
    },
    {
     "data": {
      "image/png": "[encoded data removed]",
      "text/plain": [
       "<matplotlib.figure.Figure at 0x7fc6e08dc7b8>"
      ]
     },
     "metadata": {
      "needs_background": "light"
     },
     "output_type": "display_data"
    },
    {
     "data": {
      "image/png": "[encoded data removed]",
      "text/plain": [
       "<matplotlib.figure.Figure at 0x7fc6e0833eb8>"
      ]
     },
     "metadata": {
      "needs_background": "light"
     },
     "output_type": "display_data"
    },
    {
     "data": {
      "image/png": "[encoded data removed]",
      "text/plain": [
       "<matplotlib.figure.Figure at 0x7fc6e07f62e8>"
      ]
     },
     "metadata": {
      "needs_background": "light"
     },
     "output_type": "display_data"
    },
    {
     "data": {
      "image/png": "[encoded data removed]",
      "text/plain": [
       "<matplotlib.figure.Figure at 0x7fc6e07730f0>"
      ]
     },
     "metadata": {
      "needs_background": "light"
     },
     "output_type": "display_data"
    },
    {
     "data": {
      "text/plain": [
       "<matplotlib.figure.Figure at 0x7fc6e07b0cc0>"
      ]
     },
     "metadata": {},
     "output_type": "display_data"
    }
   ],
   "source": [
    "### Load the images and plot them here.\n",
    "### Feel free to use as many code cells as needed.\n",
    "img1 = mpimg.imread('depositphotos_109963146-stock-photo-german-traffic-signcaution-roadworks.jpg', 0)\n",
    "img2 = mpimg.imread('Do-Not-Enter.jpg')\n",
    "img3 = mpimg.imread('istockphoto-467030179-612x612.jpg')\n",
    "img4 = mpimg.imread('s.jpg')\n",
    "img5 = mpimg.imread('100_1607.jpg')\n",
    "\n",
    "resized1 = cv2.resize(img1, (32, 32))\n",
    "resized2 = cv2.resize(img2, (32, 32))\n",
    "resized3 = cv2.resize(img3, (32, 32))\n",
    "resized4 = cv2.resize(img4, (32, 32))\n",
    "resized5 = cv2.resize(img5, (32, 32))\n",
    "\n",
    "\n",
    "g1=rgb2gray(resized1)\n",
    "g2=rgb2gray(resized2)\n",
    "g3=rgb2gray(resized3)\n",
    "g4=rgb2gray(resized4)\n",
    "g5=rgb2gray(resized5)\n",
    "\n",
    "test_imgs=[g1, g2, g3, g4, g5]\n",
    "\n",
    "\n",
    "plt.imshow(resized1)\n",
    "plt.figure()\n",
    "plt.imshow(resized2)\n",
    "plt.figure()\n",
    "plt.imshow(resized3)\n",
    "plt.figure()\n",
    "plt.imshow(resized4)\n",
    "plt.figure()\n",
    "plt.imshow(resized5)\n",
    "plt.figure()\n"
   ]
  },
  {
   "cell_type": "markdown",
   "metadata": {},
   "source": [
    "### Predict the Sign Type for Each Image"
   ]
  },
  {
   "cell_type": "code",
   "execution_count": 17,
   "metadata": {},
   "outputs": [
    {
     "data": {
      "image/png": "[encoded data removed]",
      "text/plain": [
       "<matplotlib.figure.Figure at 0x7fc6e070c5c0>"
      ]
     },
     "metadata": {
      "needs_background": "light"
     },
     "output_type": "display_data"
    },
    {
     "data": {
      "image/png": "[encoded data removed]",
      "text/plain": [
       "<matplotlib.figure.Figure at 0x7fc6e062fef0>"
      ]
     },
     "metadata": {
      "needs_background": "light"
     },
     "output_type": "display_data"
    },
    {
     "data": {
      "image/png": "[encoded data removed]",
      "text/plain": [
       "<matplotlib.figure.Figure at 0x7fc6e05edc88>"
      ]
     },
     "metadata": {
      "needs_background": "light"
     },
     "output_type": "display_data"
    },
    {
     "data": {
      "image/png": "[encoded data removed]",
      "text/plain": [
       "<matplotlib.figure.Figure at 0x7fc6e05b09b0>"
      ]
     },
     "metadata": {
      "needs_background": "light"
     },
     "output_type": "display_data"
    },
    {
     "data": {
      "image/png": "[encoded data removed]",
      "text/plain": [
       "<matplotlib.figure.Figure at 0x7fc6e05c0710>"
      ]
     },
     "metadata": {
      "needs_background": "light"
     },
     "output_type": "display_data"
    },
    {
     "data": {
      "text/plain": [
       "<matplotlib.figure.Figure at 0x7fc6e0599d30>"
      ]
     },
     "metadata": {},
     "output_type": "display_data"
    }
   ],
   "source": [
    "g1=rgb2gray(resized1)\n",
    "g2=rgb2gray(resized2)\n",
    "g3=rgb2gray(resized3)\n",
    "g4=rgb2gray(resized4)\n",
    "g5=rgb2gray(resized5)\n",
    "\n",
    "test_imgs=[g1, g2, g3, g4, g5]\n",
    "\n",
    "for i in range(len(test_imgs)):\n",
    "    #plt.imshow(gray_test[i])\n",
    "    #plt.figure()\n",
    "    \n",
    "    plt.imshow(test_imgs[i], cmap='gray')\n",
    "    plt.figure()\n",
    "    test_imgs[i]=test_imgs[i].reshape(32,32,1)\n",
    "\n",
    "\n",
    "labels=[25,17,33,3,11]"
   ]
  },
  {
   "cell_type": "code",
   "execution_count": 18,
   "metadata": {},
   "outputs": [
    {
     "name": "stdout",
     "output_type": "stream",
     "text": [
      "INFO:tensorflow:Restoring parameters from ./lenet\n",
      "Test Accuracy = 0.800\n"
     ]
    }
   ],
   "source": [
    "### MEASURING the downloaded 5 TEST ACCURACY\n",
    "\n",
    "\n",
    "with tf.Session() as sess:\n",
    "    saver.restore(sess, './lenet')\n",
    "    test_accuracy = evaluate(test_imgs, labels)\n",
    "    print(\"Test Accuracy = {:.3f}\".format(test_accuracy))"
   ]
  },
  {
   "cell_type": "code",
   "execution_count": 19,
   "metadata": {},
   "outputs": [
    {
     "name": "stdout",
     "output_type": "stream",
     "text": [
      "INFO:tensorflow:Restoring parameters from ./lenet\n",
      "test Accuracy = 0.926\n",
      "\n"
     ]
    }
   ],
   "source": [
    "### MEASURING given TEST ACCURACY\n",
    "\n",
    "with tf.Session() as sess:\n",
    "    saver.restore(sess, './lenet')\n",
    "    test_accuracy = evaluate(gray_test, y_test)\n",
    "    print(\"test Accuracy = {:.3f}\".format(test_accuracy))\n",
    "    print()"
   ]
  },
  {
   "cell_type": "markdown",
   "metadata": {},
   "source": [
    "### Analyze Performance"
   ]
  },
  {
   "cell_type": "code",
   "execution_count": 20,
   "metadata": {},
   "outputs": [
    {
     "name": "stdout",
     "output_type": "stream",
     "text": [
      "INFO:tensorflow:Restoring parameters from ./lenet\n",
      "Test Accuracy = 80.000%\n"
     ]
    }
   ],
   "source": [
    "### Calculate the accuracy for these 5 new images. \n",
    "### For example, if the model predicted 1 out of 5 signs correctly, it's 20% accurate on these new images.\n",
    "with tf.Session() as sess:\n",
    "    saver.restore(sess, tf.train.latest_checkpoint('.'))\n",
    "    test_accuracy = evaluate(test_imgs, labels)\n",
    "    print(\"Test Accuracy = {:.3f}\".format(test_accuracy*100)+\"%\")\n"
   ]
  },
  {
   "cell_type": "markdown",
   "metadata": {},
   "source": [
    "### Output Top 5 Softmax Probabilities For Each Image Found on the Web"
   ]
  },
  {
   "cell_type": "markdown",
   "metadata": {},
   "source": [
    "For each of the new images, print out the model's softmax probabilities to show the **certainty** of the model's predictions (limit the output to the top 5 probabilities for each image). [`tf.nn.top_k`](https://www.tensorflow.org/versions/r0.12/api_docs/python/nn.html#top_k) could prove helpful here. \n",
    "\n",
    "The example below demonstrates how tf.nn.top_k can be used to find the top k predictions for each image.\n",
    "\n",
    "`tf.nn.top_k` will return the values and indices (class ids) of the top k predictions. So if k=3, for each sign, it'll return the 3 largest probabilities (out of a possible 43) and the correspoding class ids.\n",
    "\n",
    "Take this numpy array as an example. The values in the array represent predictions. The array contains softmax probabilities for five candidate images with six possible classes. `tf.nn.top_k` is used to choose the three classes with the highest probability:\n",
    "\n",
    "```\n",
    "# (5, 6) array\n",
    "a = np.array([[ 0.24879643,  0.07032244,  0.12641572,  0.34763842,  0.07893497,\n",
    "         0.12789202],\n",
    "       [ 0.28086119,  0.27569815,  0.08594638,  0.0178669 ,  0.18063401,\n",
    "         0.15899337],\n",
    "       [ 0.26076848,  0.23664738,  0.08020603,  0.07001922,  0.1134371 ,\n",
    "         0.23892179],\n",
    "       [ 0.11943333,  0.29198961,  0.02605103,  0.26234032,  0.1351348 ,\n",
    "         0.16505091],\n",
    "       [ 0.09561176,  0.34396535,  0.0643941 ,  0.16240774,  0.24206137,\n",
    "         0.09155967]])\n",
    "```\n",
    "\n",
    "Running it through `sess.run(tf.nn.top_k(tf.constant(a), k=3))` produces:\n",
    "\n",
    "```\n",
    "TopKV2(values=array([[ 0.34763842,  0.24879643,  0.12789202],\n",
    "       [ 0.28086119,  0.27569815,  0.18063401],\n",
    "       [ 0.26076848,  0.23892179,  0.23664738],\n",
    "       [ 0.29198961,  0.26234032,  0.16505091],\n",
    "       [ 0.34396535,  0.24206137,  0.16240774]]), indices=array([[3, 0, 5],\n",
    "       [0, 1, 4],\n",
    "       [0, 5, 1],\n",
    "       [1, 3, 5],\n",
    "       [1, 4, 3]], dtype=int32))\n",
    "```\n",
    "\n",
    "Looking just at the first row we get `[ 0.34763842,  0.24879643,  0.12789202]`, you can confirm these are the 3 largest probabilities in `a`. You'll also notice `[3, 0, 5]` are the corresponding indices."
   ]
  },
  {
   "cell_type": "code",
   "execution_count": 56,
   "metadata": {},
   "outputs": [],
   "source": [
    "img1 = mpimg.imread('depositphotos_109963146-stock-photo-german-traffic-signcaution-roadworks.jpg')\n",
    "img2 = mpimg.imread('Do-Not-Enter.jpg')\n",
    "img3 = mpimg.imread('istockphoto-467030179-612x612.jpg')\n",
    "img4 = mpimg.imread('s.jpg')\n",
    "img5 = mpimg.imread('100_1607.jpg')\n",
    "\n",
    "resized1 = cv2.resize(img1, (32, 32))\n",
    "resized2 = cv2.resize(img2, (32, 32))\n",
    "resized3 = cv2.resize(img3, (32, 32))\n",
    "resized4 = cv2.resize(img4, (32, 32))\n",
    "resized5 = cv2.resize(img5, (32, 32))\n",
    "\n",
    "\n",
    "g1=rgb2gray(resized1)\n",
    "g2=rgb2gray(resized2)\n",
    "g3=rgb2gray(resized3)\n",
    "g4=rgb2gray(resized4)\n",
    "g5=rgb2gray(resized5)\n",
    "\n",
    "test_imgs=[resized1, resized2, resized3, resized4, resized5]\n",
    "test_imgs_gray=[g1, g2, g3, g4, g5]"
   ]
  },
  {
   "cell_type": "code",
   "execution_count": 57,
   "metadata": {},
   "outputs": [],
   "source": [
    "import csv\n"
   ]
  },
  {
   "cell_type": "code",
   "execution_count": 58,
   "metadata": {},
   "outputs": [],
   "source": [
    "########### reading sins names from csv files ####################\n",
    "\n",
    "signs_numbers=[]\n",
    "signs_names=[]\n",
    "with open('signnames.csv') as csvfile:\n",
    "    handle = csv.DictReader(csvfile)\n",
    "    for r in handle:\n",
    "        signs_numbers.append(r['ClassId'])\n",
    "        signs_names.append(r['SignName'])"
   ]
  },
  {
   "cell_type": "code",
   "execution_count": 59,
   "metadata": {},
   "outputs": [],
   "source": [
    "## find top five probs for wach image \n",
    "\n",
    "test_imgs_reshaped=[]\n",
    "\n",
    "for i in range(len(test_imgs)):\n",
    "    test_imgs_reshaped.append(test_imgs_gray[i].reshape(32,32,1))\n"
   ]
  },
  {
   "cell_type": "code",
   "execution_count": null,
   "metadata": {},
   "outputs": [],
   "source": [
    "\n",
    "    "
   ]
  },
  {
   "cell_type": "code",
   "execution_count": 60,
   "metadata": {},
   "outputs": [
    {
     "name": "stdout",
     "output_type": "stream",
     "text": [
      "INFO:tensorflow:Restoring parameters from ./lenet\n",
      "TopKV2(values=array([[ 0.15251879,  0.04846586,  0.04675446,  0.04592899,  0.04283468],\n",
      "       [ 0.84556556,  0.03474986,  0.02126543,  0.01359297,  0.01082444],\n",
      "       [ 0.04448006,  0.04288648,  0.04134395,  0.04081016,  0.03845808],\n",
      "       [ 0.31143537,  0.14600042,  0.1396441 ,  0.04649749,  0.03729649],\n",
      "       [ 0.26352414,  0.15038849,  0.05845912,  0.04974293,  0.03900902]], dtype=float32), indices=array([[25,  5, 18, 31, 26],\n",
      "       [17, 14, 33,  0, 40],\n",
      "       [ 3,  1,  6, 35,  7],\n",
      "       [ 3,  5,  2, 31,  1],\n",
      "       [11, 30, 23, 21, 33]], dtype=int32))\n"
     ]
    }
   ],
   "source": [
    "with tf.Session() as sess: \n",
    "    saver.restore(sess, './lenet')\n",
    "    outs = sess.run(logits, feed_dict= {x:test_imgs_reshaped, keep_probability:1})\n",
    "    #cross_entropy = tf.nn.softmax_cross_entropy_with_logits(labels=one_hot_y, logits=logits)   \n",
    "    out=(outs+20)/20\n",
    "    softmax = sess.run(tf.nn.softmax(out))\n",
    "    \n",
    "    probs = sess.run(tf.nn.top_k(softmax, 5))\n",
    "\n",
    "    #print(outs)\n",
    "    \n",
    "\n",
    "print(probs)"
   ]
  },
  {
   "cell_type": "code",
   "execution_count": null,
   "metadata": {},
   "outputs": [],
   "source": []
  },
  {
   "cell_type": "code",
   "execution_count": 66,
   "metadata": {},
   "outputs": [
    {
     "name": "stdout",
     "output_type": "stream",
     "text": [
      "Correct Prediction : Road work\n",
      "\n",
      "Prediction #1 is : Road work == with probability of :0.152519\n",
      "Prediction #2 is : Speed limit (80km/h) == with probability of :0.0484659\n",
      "Prediction #3 is : General caution == with probability of :0.0467545\n",
      "Prediction #4 is : Wild animals crossing == with probability of :0.045929\n",
      "Prediction #5 is : Traffic signals == with probability of :0.0428347\n",
      "\n",
      "Predicted Successfully !!\n"
     ]
    },
    {
     "data": {
      "text/plain": [
       "<matplotlib.image.AxesImage at 0x7fc6defc1630>"
      ]
     },
     "execution_count": 66,
     "metadata": {},
     "output_type": "execute_result"
    },
    {
     "data": {
      "image/png": "[encoded data removed]",
      "text/plain": [
       "<matplotlib.figure.Figure at 0x7fc6defeae80>"
      ]
     },
     "metadata": {
      "needs_background": "light"
     },
     "output_type": "display_data"
    }
   ],
   "source": [
    "######## The first image\n",
    "  \n",
    "imgno=0           #for image\n",
    "print(\"Correct Prediction : \" + signs_names [labels[imgno]] )\n",
    "print()\n",
    "p=0               #for the probability\n",
    "for i in probs[1][imgno]:\n",
    "    print(\"Prediction #\" + str(p+1) + \" is : \" + str(signs_names[i]) +\" == with probability of :\"+ str(probs[0][imgno][p]))\n",
    "    p+=1\n",
    "print()\n",
    "\n",
    "if labels[imgno] == probs[1][imgno][0]:\n",
    "    print('Predicted Successfully !!')\n",
    "else :\n",
    "    print('Wrong predection !!')\n",
    "    \n",
    "    \n",
    "plt.imshow(test_imgs[imgno])\n"
   ]
  },
  {
   "cell_type": "code",
   "execution_count": 67,
   "metadata": {},
   "outputs": [
    {
     "name": "stdout",
     "output_type": "stream",
     "text": [
      "Correct Prediction : No entry\n",
      "\n",
      "Prediction #1 is : No entry == with probability of :0.845566\n",
      "Prediction #2 is : Stop == with probability of :0.0347499\n",
      "Prediction #3 is : Turn right ahead == with probability of :0.0212654\n",
      "Prediction #4 is : Speed limit (20km/h) == with probability of :0.013593\n",
      "Prediction #5 is : Roundabout mandatory == with probability of :0.0108244\n",
      "\n",
      "Predicted Successfully !!\n"
     ]
    },
    {
     "data": {
      "text/plain": [
       "<matplotlib.image.AxesImage at 0x7fc6def9bac8>"
      ]
     },
     "execution_count": 67,
     "metadata": {},
     "output_type": "execute_result"
    },
    {
     "data": {
      "image/png": "[encoded data removed]",
      "text/plain": [
       "<matplotlib.figure.Figure at 0x7fc6def63710>"
      ]
     },
     "metadata": {
      "needs_background": "light"
     },
     "output_type": "display_data"
    }
   ],
   "source": [
    "######## The second image\n",
    "  \n",
    "imgno=1           #for image\n",
    "print(\"Correct Prediction : \" + signs_names [labels[imgno]] )\n",
    "print()\n",
    "p=0               #for the probability\n",
    "for i in probs[1][imgno]:\n",
    "    print(\"Prediction #\" + str(p+1) + \" is : \" + str(signs_names[i]) +\" == with probability of :\"+ str(probs[0][imgno][p]))\n",
    "    p+=1\n",
    "print()\n",
    "\n",
    "if labels[imgno] == probs[1][imgno][0]:\n",
    "    print('Predicted Successfully !!')\n",
    "else :\n",
    "    print('Wrong predection !!')\n",
    "    \n",
    "    \n",
    "plt.imshow(test_imgs[imgno])\n"
   ]
  },
  {
   "cell_type": "code",
   "execution_count": 68,
   "metadata": {},
   "outputs": [
    {
     "name": "stdout",
     "output_type": "stream",
     "text": [
      "Correct Prediction : Turn right ahead\n",
      "\n",
      "Prediction #1 is : Speed limit (60km/h) == with probability of :0.0444801\n",
      "Prediction #2 is : Speed limit (30km/h) == with probability of :0.0428865\n",
      "Prediction #3 is : End of speed limit (80km/h) == with probability of :0.041344\n",
      "Prediction #4 is : Ahead only == with probability of :0.0408102\n",
      "Prediction #5 is : Speed limit (100km/h) == with probability of :0.0384581\n",
      "\n",
      "Wrong predection !!\n"
     ]
    },
    {
     "data": {
      "text/plain": [
       "<matplotlib.image.AxesImage at 0x7fc6deefadd8>"
      ]
     },
     "execution_count": 68,
     "metadata": {},
     "output_type": "execute_result"
    },
    {
     "data": {
      "image/png": "[encoded data removed]",
      "text/plain": [
       "<matplotlib.figure.Figure at 0x7fc6def46c88>"
      ]
     },
     "metadata": {
      "needs_background": "light"
     },
     "output_type": "display_data"
    }
   ],
   "source": [
    "######## Third second image\n",
    "  \n",
    "imgno=2           #for image\n",
    "print(\"Correct Prediction : \" + signs_names [labels[imgno]] )\n",
    "print()\n",
    "p=0               #for the probability\n",
    "for i in probs[1][imgno]:\n",
    "    print(\"Prediction #\" + str(p+1) + \" is : \" + str(signs_names[i]) +\" == with probability of :\"+ str(probs[0][imgno][p]))\n",
    "    p+=1\n",
    "print()\n",
    "\n",
    "if labels[imgno] == probs[1][imgno][0]:\n",
    "    print('Predicted Successfully !!')\n",
    "else :\n",
    "    print('Wrong predection !!')\n",
    "    \n",
    "    \n",
    "plt.imshow(test_imgs[imgno])\n"
   ]
  },
  {
   "cell_type": "code",
   "execution_count": 69,
   "metadata": {},
   "outputs": [
    {
     "name": "stdout",
     "output_type": "stream",
     "text": [
      "Correct Prediction : Speed limit (60km/h)\n",
      "\n",
      "Prediction #1 is : Speed limit (60km/h) == with probability of :0.311435\n",
      "Prediction #2 is : Speed limit (80km/h) == with probability of :0.146\n",
      "Prediction #3 is : Speed limit (50km/h) == with probability of :0.139644\n",
      "Prediction #4 is : Wild animals crossing == with probability of :0.0464975\n",
      "Prediction #5 is : Speed limit (30km/h) == with probability of :0.0372965\n",
      "\n",
      "Predicted Successfully !!\n"
     ]
    },
    {
     "data": {
      "text/plain": [
       "<matplotlib.image.AxesImage at 0x7fc6dee676d8>"
      ]
     },
     "execution_count": 69,
     "metadata": {},
     "output_type": "execute_result"
    },
    {
     "data": {
      "image/png": "[encoded data removed]",
      "text/plain": [
       "<matplotlib.figure.Figure at 0x7fc6deefa978>"
      ]
     },
     "metadata": {
      "needs_background": "light"
     },
     "output_type": "display_data"
    }
   ],
   "source": [
    "######## The fourth image\n",
    "  \n",
    "imgno=3           #for image\n",
    "print(\"Correct Prediction : \" + signs_names [labels[imgno]] )\n",
    "print()\n",
    "p=0               #for the probability\n",
    "for i in probs[1][imgno]:\n",
    "    print(\"Prediction #\" + str(p+1) + \" is : \" + str(signs_names[i]) +\" == with probability of :\"+ str(probs[0][imgno][p]))\n",
    "    p+=1\n",
    "print()\n",
    "\n",
    "if labels[imgno] == probs[1][imgno][0]:\n",
    "    print('Predicted Successfully !!')\n",
    "else :\n",
    "    print('Wrong predection !!')\n",
    "    \n",
    "    \n",
    "plt.imshow(test_imgs[imgno])\n"
   ]
  },
  {
   "cell_type": "code",
   "execution_count": 70,
   "metadata": {},
   "outputs": [
    {
     "name": "stdout",
     "output_type": "stream",
     "text": [
      "Correct Prediction : Right-of-way at the next intersection\n",
      "\n",
      "Prediction #1 is : Right-of-way at the next intersection == with probability of :0.263524\n",
      "Prediction #2 is : Beware of ice/snow == with probability of :0.150388\n",
      "Prediction #3 is : Slippery road == with probability of :0.0584591\n",
      "Prediction #4 is : Double curve == with probability of :0.0497429\n",
      "Prediction #5 is : Turn right ahead == with probability of :0.039009\n",
      "\n",
      "Predicted Successfully !!\n"
     ]
    },
    {
     "data": {
      "text/plain": [
       "<matplotlib.image.AxesImage at 0x7fc6dee47b00>"
      ]
     },
     "execution_count": 70,
     "metadata": {},
     "output_type": "execute_result"
    },
    {
     "data": {
      "image/png": "[encoded data removed]",
      "text/plain": [
       "<matplotlib.figure.Figure at 0x7fc6dee8c438>"
      ]
     },
     "metadata": {
      "needs_background": "light"
     },
     "output_type": "display_data"
    }
   ],
   "source": [
    "######## The fifth image\n",
    "  \n",
    "imgno=4           #for image\n",
    "print(\"Correct Prediction : \" + signs_names [labels[imgno]] )\n",
    "print()\n",
    "p=0               #for the probability\n",
    "for i in probs[1][imgno]:\n",
    "    print(\"Prediction #\" + str(p+1) + \" is : \" + str(signs_names[i]) +\" == with probability of :\"+ str(probs[0][imgno][p]))\n",
    "    p+=1\n",
    "print()\n",
    "\n",
    "if labels[imgno] == probs[1][imgno][0]:\n",
    "    print('Predicted Successfully !!')\n",
    "else :\n",
    "    print('Wrong predection !!')\n",
    "    \n",
    "    \n",
    "plt.imshow(test_imgs[imgno])\n"
   ]
  },
  {
   "cell_type": "markdown",
   "metadata": {},
   "source": [
    "### Project Writeup\n",
    "\n",
    "Once you have completed the code implementation, document your results in a project writeup using this [template](https://github.com/udacity/CarND-Traffic-Sign-Classifier-Project/blob/master/writeup_template.md) as a guide. The writeup can be in a markdown or pdf file. "
   ]
  },
  {
   "cell_type": "markdown",
   "metadata": {},
   "source": [
    "> **Note**: Once you have completed all of the code implementations and successfully answered each question above, you may finalize your work by exporting the iPython Notebook as an HTML document. You can do this by using the menu above and navigating to  \\n\",\n",
    "    \"**File -> Download as -> HTML (.html)**. Include the finished document along with this notebook as your submission."
   ]
  },
  {
   "cell_type": "markdown",
   "metadata": {},
   "source": [
    "---\n",
    "\n",
    "## Step 4 (Optional): Visualize the Neural Network's State with Test Images\n",
    "\n",
    " This Section is not required to complete but acts as an additional excersise for understaning the output of a neural network's weights. While neural networks can be a great learning device they are often referred to as a black box. We can understand what the weights of a neural network look like better by plotting their feature maps. After successfully training your neural network you can see what it's feature maps look like by plotting the output of the network's weight layers in response to a test stimuli image. From these plotted feature maps, it's possible to see what characteristics of an image the network finds interesting. For a sign, maybe the inner network feature maps react with high activation to the sign's boundary outline or to the contrast in the sign's painted symbol.\n",
    "\n",
    " Provided for you below is the function code that allows you to get the visualization output of any tensorflow weight layer you want. The inputs to the function should be a stimuli image, one used during training or a new one you provided, and then the tensorflow variable name that represents the layer's state during the training process, for instance if you wanted to see what the [LeNet lab's](https://classroom.udacity.com/nanodegrees/nd013/parts/fbf77062-5703-404e-b60c-95b78b2f3f9e/modules/6df7ae49-c61c-4bb2-a23e-6527e69209ec/lessons/601ae704-1035-4287-8b11-e2c2716217ad/concepts/d4aca031-508f-4e0b-b493-e7b706120f81) feature maps looked like for it's second convolutional layer you could enter conv2 as the tf_activation variable.\n",
    "\n",
    "For an example of what feature map outputs look like, check out NVIDIA's results in their paper [End-to-End Deep Learning for Self-Driving Cars](https://devblogs.nvidia.com/parallelforall/deep-learning-self-driving-cars/) in the section Visualization of internal CNN State. NVIDIA was able to show that their network's inner weights had high activations to road boundary lines by comparing feature maps from an image with a clear path to one without. Try experimenting with a similar test to show that your trained network's weights are looking for interesting features, whether it's looking at differences in feature maps from images with or without a sign, or even what feature maps look like in a trained network vs a completely untrained one on the same sign image.\n",
    "\n",
    "<figure>\n",
    " <img src=\"visualize_cnn.png\" width=\"380\" alt=\"Combined Image\" />\n",
    " <figcaption>\n",
    " <p></p> \n",
    " <p style=\"text-align: center;\"> Your output should look something like this (above)</p> \n",
    " </figcaption>\n",
    "</figure>\n",
    " <p></p> \n"
   ]
  },
  {
   "cell_type": "code",
   "execution_count": null,
   "metadata": {},
   "outputs": [],
   "source": [
    "### Visualize your network's feature maps here.\n",
    "### Feel free to use as many code cells as needed.\n",
    "\n",
    "# image_input: the test image being fed into the network to produce the feature maps\n",
    "# tf_activation: should be a tf variable name used during your training procedure that represents the calculated state of a specific weight layer\n",
    "# activation_min/max: can be used to view the activation contrast in more detail, by default matplot sets min and max to the actual min and max values of the output\n",
    "# plt_num: used to plot out multiple different weight feature map sets on the same block, just extend the plt number for each new feature map entry\n",
    "\n",
    "def outputFeatureMap(image_input, tf_activation, activation_min=-1, activation_max=-1 ,plt_num=1):\n",
    "    # Here make sure to preprocess your image_input in a way your network expects\n",
    "    # with size, normalization, ect if needed\n",
    "    # image_input =\n",
    "    # Note: x should be the same name as your network's tensorflow data placeholder variable\n",
    "    # If you get an error tf_activation is not defined it may be having trouble accessing the variable from inside a function\n",
    "    activation = tf_activation.eval(session=sess,feed_dict={x : image_input, keep_probability: 1.0})\n",
    "    featuremaps = activation.shape[3]\n",
    "    plt.figure(plt_num, figsize=(15,15))\n",
    "    for featuremap in range(featuremaps):\n",
    "        plt.subplot(6,8, featuremap+1) # sets the number of feature maps to show on each row and column\n",
    "        plt.title('FeatureMap ' + str(featuremap)) # displays the feature map number\n",
    "        if activation_min != -1 & activation_max != -1:\n",
    "            plt.imshow(activation[0,:,:, featuremap], interpolation=\"nearest\", vmin =activation_min, vmax=activation_max, cmap=\"gray\")\n",
    "        elif activation_max != -1:\n",
    "            plt.imshow(activation[0,:,:, featuremap], interpolation=\"nearest\", vmax=activation_max, cmap=\"gray\")\n",
    "        elif activation_min !=-1:\n",
    "            plt.imshow(activation[0,:,:, featuremap], interpolation=\"nearest\", vmin=activation_min, cmap=\"gray\")\n",
    "        else:\n",
    "            plt.imshow(activation[0,:,:, featuremap], interpolation=\"nearest\", cmap=\"gray\")"
   ]
  }
 ],
 "metadata": {
  "anaconda-cloud": {},
  "kernelspec": {
   "display_name": "Python 3",
   "language": "python",
   "name": "python3"
  },
  "language_info": {
   "codemirror_mode": {
    "name": "ipython",
    "version": 3
   },
   "file_extension": ".py",
   "mimetype": "text/x-python",
   "name": "python",
   "nbconvert_exporter": "python",
   "pygments_lexer": "ipython3",
   "version": "3.6.3"
  }
 },
 "nbformat": 4,
 "nbformat_minor": 1
}
